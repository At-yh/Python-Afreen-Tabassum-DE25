{
 "cells": [
  {
   "cell_type": "markdown",
   "id": "77099438",
   "metadata": {},
   "source": [
    "# Dictionary\n",
    "- also a collection data type\n",
    "- the data is stored in key-value pairs"
   ]
  },
  {
   "cell_type": "markdown",
   "id": "6e01086e",
   "metadata": {},
   "source": [
    "### Create a dictionary with dict() class"
   ]
  },
  {
   "cell_type": "code",
   "execution_count": 1,
   "id": "ff372066",
   "metadata": {},
   "outputs": [],
   "source": [
    "# Initiate a dictionary object called persion\n",
    "person = dict(\n",
    "    name = \"Kokchun\",\n",
    "    age = 34.9,\n",
    "    work = \"teacher\"\n",
    ")"
   ]
  },
  {
   "cell_type": "code",
   "execution_count": 4,
   "id": "83af0205",
   "metadata": {},
   "outputs": [
    {
     "name": "stdout",
     "output_type": "stream",
     "text": [
      "Kokchun\n",
      "34.9\n",
      "teacher\n"
     ]
    }
   ],
   "source": [
    "# Retrieve data from this dictionary\n",
    "# Make use of the key for each value\n",
    "\n",
    "print(person['name'])   # compare to indexing in a list like list_a[0]\n",
    "print(person['age'])\n",
    "print(person['work'])"
   ]
  },
  {
   "cell_type": "markdown",
   "id": "328b90f8",
   "metadata": {},
   "source": [
    "Create a dictionary with {}"
   ]
  },
  {
   "cell_type": "code",
   "execution_count": 10,
   "id": "0a16ee54",
   "metadata": {},
   "outputs": [],
   "source": [
    "person = {\"name\": \"Kokchun\",\n",
    "          \"age\": 34.9,\n",
    "          \"work\": \"teacher\",\n",
    "          \"interest\": [\"math\", \"python\", \"yoga\"],  # the val in one key-val pair can be another collection data type\n",
    "          \"address\": {\"country\": \"Sweden\", \"city\": \"Stockholm\"}\n",
    "          }"
   ]
  },
  {
   "cell_type": "code",
   "execution_count": 11,
   "id": "81e8ce52",
   "metadata": {},
   "outputs": [
    {
     "name": "stdout",
     "output_type": "stream",
     "text": [
      "Kokchun\n",
      "teacher\n"
     ]
    }
   ],
   "source": [
    "print(person[\"name\"])\n",
    "print(person[\"work\"])"
   ]
  },
  {
   "cell_type": "code",
   "execution_count": 12,
   "id": "1c30dcc7",
   "metadata": {},
   "outputs": [
    {
     "name": "stdout",
     "output_type": "stream",
     "text": [
      "['math', 'python', 'yoga']\n",
      "{'country': 'Sweden', 'city': 'Stockholm'}\n"
     ]
    }
   ],
   "source": [
    "print(person[\"interest\"])\n",
    "print(person[\"address\"])"
   ]
  },
  {
   "cell_type": "code",
   "execution_count": 13,
   "id": "887f18e6",
   "metadata": {},
   "outputs": [
    {
     "name": "stdout",
     "output_type": "stream",
     "text": [
      "math\n",
      "Sweden\n"
     ]
    }
   ],
   "source": [
    "# only print one interest\n",
    "print(person[\"interest\"][0])\n",
    "\n",
    "# only print one info from the address\n",
    "print(person[\"address\"][\"country\"])"
   ]
  },
  {
   "cell_type": "markdown",
   "id": "f24e0168",
   "metadata": {},
   "source": [
    "Iterate over a dictionary"
   ]
  },
  {
   "cell_type": "code",
   "execution_count": 14,
   "id": "97fb43f3",
   "metadata": {},
   "outputs": [],
   "source": [
    "words ={\n",
    "    \"data structure\": \"means of sorting data\",\n",
    "    \"regression\": \"a function to best fit the data\",\n",
    "    \"method\": \"a function bound to an object\"\n",
    "}"
   ]
  },
  {
   "cell_type": "code",
   "execution_count": null,
   "id": "ccd24ee2",
   "metadata": {},
   "outputs": [],
   "source": [
    "# Iterative over both keys and values \n",
    "for key, value in words.items(): \n",
    "    print(f\"Key: {key}\")\n",
    "    print(f\"Value: {value}\")\n",
    "    print(\"--------\")"
   ]
  },
  {
   "cell_type": "code",
   "execution_count": null,
   "id": "b1380c3b",
   "metadata": {},
   "outputs": [],
   "source": [
    "# Iterative over keys\n",
    "for key in words.keys():\n",
    "    print(f\"Key: {key}\")\n",
    "    print(\"---------\")"
   ]
  },
  {
   "cell_type": "code",
   "execution_count": 22,
   "id": "7a4e0779",
   "metadata": {},
   "outputs": [
    {
     "name": "stdout",
     "output_type": "stream",
     "text": [
      "Value: means of sorting data\n",
      "--------\n",
      "Value: a function to best fit the data\n",
      "--------\n",
      "Value: a function bound to an object\n",
      "--------\n"
     ]
    }
   ],
   "source": [
    "# Iterative over values\n",
    "for value in words.values():\n",
    "    print(f\"Value: {value}\")\n",
    "    print(\"--------\")"
   ]
  },
  {
   "cell_type": "markdown",
   "id": "0c7256fb",
   "metadata": {},
   "source": [
    "Dictionary Comprehension"
   ]
  },
  {
   "cell_type": "code",
   "execution_count": 24,
   "id": "af6d2fef",
   "metadata": {},
   "outputs": [],
   "source": [
    "# We want to produce a dictionary called grade_limit\n",
    "\n",
    "# Create this dictionary from scratch\n",
    "grade_limit = {\n",
    "              \"F\": 0,\n",
    "              \"E\": 10,\n",
    "              \"D\": 20,\n",
    "              \"C\": 30,\n",
    "              \"B\": 40,\n",
    "              \"A\": 50\n",
    "              }"
   ]
  },
  {
   "cell_type": "code",
   "execution_count": null,
   "id": "8d4a043c",
   "metadata": {},
   "outputs": [],
   "source": [
    "# Create the same dictionary but with dictionary comprehension\n",
    "\n",
    "# Checkout the loop that will be used inside dictionary comprehension\n",
    "for i, grade in enumerate(\"FEDCBA\"):\n",
    "    print(i)\n",
    "    print(grade)\n",
    "\n",
    "# Create the dictionary now\n",
    "grade_limit = {grade: i*10 for i, grade in enumerate(\"FEDCBA\")}"
   ]
  },
  {
   "cell_type": "code",
   "execution_count": 25,
   "id": "42b3968a",
   "metadata": {},
   "outputs": [
    {
     "name": "stdout",
     "output_type": "stream",
     "text": [
      "0\n",
      "F\n",
      "1\n",
      "E\n",
      "2\n",
      "D\n",
      "3\n",
      "C\n",
      "4\n",
      "B\n",
      "5\n",
      "A\n"
     ]
    }
   ],
   "source": [
    "for i, grade in enumerate(\"FEDCBA\"):\n",
    "    print(i)\n",
    "    print(grade)"
   ]
  },
  {
   "cell_type": "code",
   "execution_count": 27,
   "id": "b48326c2",
   "metadata": {},
   "outputs": [
    {
     "data": {
      "text/plain": [
       "{'F': 0, 'E': 1, 'D': 2, 'C': 3, 'B': 4, 'A': 5}"
      ]
     },
     "execution_count": 27,
     "metadata": {},
     "output_type": "execute_result"
    }
   ],
   "source": [
    "grade_limit = {grade: i for i, grade in enumerate(\"FEDCBA\")}\n",
    "grade_limit"
   ]
  }
 ],
 "metadata": {
  "kernelspec": {
   "display_name": "Python-Afreen-Tabassum-DE25",
   "language": "python",
   "name": "python3"
  },
  "language_info": {
   "codemirror_mode": {
    "name": "ipython",
    "version": 3
   },
   "file_extension": ".py",
   "mimetype": "text/x-python",
   "name": "python",
   "nbconvert_exporter": "python",
   "pygments_lexer": "ipython3",
   "version": "3.12.10"
  }
 },
 "nbformat": 4,
 "nbformat_minor": 5
}
