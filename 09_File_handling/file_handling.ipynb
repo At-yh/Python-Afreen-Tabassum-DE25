{
 "cells": [
  {
   "cell_type": "markdown",
   "id": "c63eff3c",
   "metadata": {},
   "source": []
  },
  {
   "cell_type": "markdown",
   "id": "69ec2c8e",
   "metadata": {},
   "source": [
    "## Clean the quotes file"
   ]
  },
  {
   "cell_type": "code",
   "execution_count": null,
   "id": "c3396a16",
   "metadata": {},
   "outputs": [],
   "source": [
    "# We will use regular expression package to clean string contents\n",
    "import re"
   ]
  },
  {
   "cell_type": "code",
   "execution_count": null,
   "id": "67e21f5e",
   "metadata": {},
   "outputs": [],
   "source": [
    "# Create an empty list for saving quotes\n",
    "quotes = []\n",
    "\n",
    "# Initiate a quote number\n",
    "i = 1"
   ]
  },
  {
   "cell_type": "code",
   "execution_count": null,
   "id": "1d622d7d",
   "metadata": {},
   "outputs": [],
   "source": [
    "# Open the file\n",
    "# Comparing the use of absolute and relative paths \n",
    "\n",
    "# print out all the contents at once\n",
    "raw_file_path = \"quotes.txt\"\n",
    "\n",
    "with open(\"quotes.txt\", \"r\") as f_read:\n",
    "    quotes = f_read.read()\n",
    "\n",
    "print(f_read)   # what u can see from just opening the file\n",
    "print(quotes)    # what u can see from applying the read() method on the same file"
   ]
  },
  {
   "cell_type": "code",
   "execution_count": 13,
   "id": "c591a4b6",
   "metadata": {},
   "outputs": [],
   "source": [
    "import re"
   ]
  },
  {
   "cell_type": "code",
   "execution_count": 14,
   "id": "a3b070bb",
   "metadata": {},
   "outputs": [
    {
     "name": "stdout",
     "output_type": "stream",
     "text": [
      "If we knew what it was we were doing, it would not be called research, would it? - Albert Einstein\n",
      "\n",
      "Time is a drug. Too much of it kills you. - Terry Pratchett\n",
      "\n",
      "\n",
      "An expert is a person who has made all the mistakes that can be made in a very narrow field - Niels Bohr\n",
      "\n",
      "Everything must be made as simple as possible. But not simpler. - Albert Einstein\n",
      "\n",
      "\n",
      "Nothing in life is to be feared, it is only to be understood. Now is the time to understand more, so that we may fear less. - Marie Curie\n",
      "\n",
      "If I have seen further it is by standing on the shoulders of Giants. - Isaac Newton\n"
     ]
    }
   ],
   "source": [
    "# loop through lines in the file contents\n",
    "with open(\"quotes.txt\", \"r\") as f_read:\n",
    "    for quote in f_read:\n",
    "        # data cleaning\n",
    "        quote = quote.strip(\" \\n\")   # replace the quote with a modified quote,   # \\n use to make new lines\n",
    "        quote = re.sub(\" +\", \" \", quote)   # replace multiple spaces with one space\n",
    "        # print each line\n",
    "        print(quote)"
   ]
  },
  {
   "cell_type": "code",
   "execution_count": null,
   "id": "1c55310b",
   "metadata": {},
   "outputs": [],
   "source": [
    "# Open two files (one with r mode and another with w mode)\n",
    "with open(\"quotes.txt\", \"r\") as f_read, open(\"quotes_clean.txt\", \"w\") as f_writes:\n",
    "    for quote in f_read:\n",
    "        # data cleaning\n",
    "        quote = quote.strip(\" \\n\")   # replace the quote with a modified quote,   # \\n use to make new lines\n",
    "        quote = re.sub(\" +\", \" \", quote)   # replace multiple spaces with one space\n",
    "        # print each line\n",
    "        print(quote)\n",
    "\n",
    "        if quote != \"\":\n",
    "            f_write.write(f\"{i}. {quote}\\n\")\n",
    "            i += 1"
   ]
  },
  {
   "cell_type": "code",
   "execution_count": 2,
   "id": "88f29980",
   "metadata": {},
   "outputs": [
    {
     "name": "stdout",
     "output_type": "stream",
     "text": [
      "Hello\n"
     ]
    },
    {
     "ename": "NameError",
     "evalue": "name 'xxx' is not defined",
     "output_type": "error",
     "traceback": [
      "\u001b[31m---------------------------------------------------------------------------\u001b[39m",
      "\u001b[31mNameError\u001b[39m                                 Traceback (most recent call last)",
      "\u001b[36mCell\u001b[39m\u001b[36m \u001b[39m\u001b[32mIn[2]\u001b[39m\u001b[32m, line 2\u001b[39m\n\u001b[32m      1\u001b[39m \u001b[38;5;28mprint\u001b[39m(\u001b[33m\"\u001b[39m\u001b[33mHello\u001b[39m\u001b[33m\"\u001b[39m)\n\u001b[32m----> \u001b[39m\u001b[32m2\u001b[39m \u001b[38;5;28mprint\u001b[39m(\u001b[43mxxx\u001b[49m)\n",
      "\u001b[31mNameError\u001b[39m: name 'xxx' is not defined"
     ]
    }
   ],
   "source": [
    "print(\"Hello\")\n",
    "print(xxx)"
   ]
  }
 ],
 "metadata": {
  "kernelspec": {
   "display_name": "Python-Afreen-Tabassum-DE25",
   "language": "python",
   "name": "python3"
  },
  "language_info": {
   "codemirror_mode": {
    "name": "ipython",
    "version": 3
   },
   "file_extension": ".py",
   "mimetype": "text/x-python",
   "name": "python",
   "nbconvert_exporter": "python",
   "pygments_lexer": "ipython3",
   "version": "3.12.10"
  }
 },
 "nbformat": 4,
 "nbformat_minor": 5
}
