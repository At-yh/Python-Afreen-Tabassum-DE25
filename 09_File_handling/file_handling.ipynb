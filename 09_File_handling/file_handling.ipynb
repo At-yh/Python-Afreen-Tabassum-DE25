{
 "cells": [
  {
   "cell_type": "markdown",
   "id": "69ec2c8e",
   "metadata": {},
   "source": [
    "## Clean the quotes file"
   ]
  },
  {
   "cell_type": "code",
   "execution_count": null,
   "id": "c3396a16",
   "metadata": {},
   "outputs": [],
   "source": [
    "# We will use regular expression package to clean string contents\n",
    "import re"
   ]
  },
  {
   "cell_type": "code",
   "execution_count": null,
   "id": "67e21f5e",
   "metadata": {},
   "outputs": [],
   "source": [
    "# Create an empty list for saving quotes\n",
    "quotes = []\n",
    "\n",
    "# Initiate a quote number\n",
    "i = 1"
   ]
  },
  {
   "cell_type": "code",
   "execution_count": null,
   "id": "1d622d7d",
   "metadata": {},
   "outputs": [],
   "source": [
    "# Open the file\n",
    "# Comparing the use of absolute and relative paths \n",
    "\n",
    "# print out all the contents at once\n",
    "raw_file_path = \"quotes.txt\"\n",
    "\n",
    "with open(\"quotes.txt\", \"r\") as f_read:\n",
    "    quotes = f_read.read()\n",
    "\n",
    "print(f_read)   # what u can see from just opening the file\n",
    "print(quotes)    # what u can see from applying the read() method on the same file"
   ]
  },
  {
   "cell_type": "code",
   "execution_count": null,
   "id": "a3b070bb",
   "metadata": {},
   "outputs": [
    {
     "ename": "NameError",
     "evalue": "name 're' is not defined",
     "output_type": "error",
     "traceback": [
      "\u001b[31m---------------------------------------------------------------------------\u001b[39m",
      "\u001b[31mNameError\u001b[39m                                 Traceback (most recent call last)",
      "\u001b[36mCell\u001b[39m\u001b[36m \u001b[39m\u001b[32mIn[7]\u001b[39m\u001b[32m, line 6\u001b[39m\n\u001b[32m      3\u001b[39m \u001b[38;5;28;01mfor\u001b[39;00m quote \u001b[38;5;129;01min\u001b[39;00m f_read:\n\u001b[32m      4\u001b[39m     \u001b[38;5;66;03m# data cleaning\u001b[39;00m\n\u001b[32m      5\u001b[39m     quote = quote.strip(\u001b[33m\"\u001b[39m\u001b[33m \u001b[39m\u001b[38;5;130;01m\\n\u001b[39;00m\u001b[33m\"\u001b[39m)   \u001b[38;5;66;03m# replace the quote with a modified quote,   # \\n use to make new lines\u001b[39;00m\n\u001b[32m----> \u001b[39m\u001b[32m6\u001b[39m     quote = \u001b[43mre\u001b[49m.sub(\u001b[33m\"\u001b[39m\u001b[33m + \u001b[39m\u001b[33m\"\u001b[39m, \u001b[33m\"\u001b[39m\u001b[33m \u001b[39m\u001b[33m\"\u001b[39m, quote)\n\u001b[32m      7\u001b[39m     \u001b[38;5;66;03m# print each line\u001b[39;00m\n\u001b[32m      8\u001b[39m     \u001b[38;5;28mprint\u001b[39m(quote)\n",
      "\u001b[31mNameError\u001b[39m: name 're' is not defined"
     ]
    }
   ],
   "source": [
    "# loop through lines in the file contents\n",
    "with open(\"quotes.txt\", \"r\") as f_read:\n",
    "    for quote in f_read:\n",
    "        # data cleaning\n",
    "        quote = quote.strip(\" \\n\")   # replace the quote with a modified quote,   # \\n use to make new lines\n",
    "        quote = re.sub(\" +\", \" \", quote)   # \n",
    "        # print each line\n",
    "        print(quote)"
   ]
  }
 ],
 "metadata": {
  "kernelspec": {
   "display_name": "Python-Afreen-Tabassum-DE25",
   "language": "python",
   "name": "python3"
  },
  "language_info": {
   "codemirror_mode": {
    "name": "ipython",
    "version": 3
   },
   "file_extension": ".py",
   "mimetype": "text/x-python",
   "name": "python",
   "nbconvert_exporter": "python",
   "pygments_lexer": "ipython3",
   "version": "3.12.10"
  }
 },
 "nbformat": 4,
 "nbformat_minor": 5
}
