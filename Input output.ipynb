{
 "cells": [
  {
   "cell_type": "markdown",
   "id": "9bc696fb",
   "metadata": {},
   "source": [
    "### Decide discounts for a customer"
   ]
  },
  {
   "cell_type": "code",
   "execution_count": 7,
   "id": "911f58b6",
   "metadata": {},
   "outputs": [
    {
     "name": "stdout",
     "output_type": "stream",
     "text": [
      "50% off 50.0 kr\n"
     ]
    }
   ],
   "source": [
    "# base_price=10\n",
    "price = 10\n",
    "# Custome type \n",
    "S_P= input (\"Are u student or pensioner\")\n",
    "quantity = int(input(\"how many apples do u want to buy\"))\n",
    "\n",
    "# Calculate the total price\n",
    "total_price = quantity * 10\n",
    "students_price = total_price * 0.3\n",
    "pensioner_price = total_price * 0.5\n",
    "if S_P == \"students\":\n",
    "    print(f\"30% off {students_price} kr \")\n",
    "else:\n",
    "    print(f\"50% off {pensioner_price} kr\")\n",
    "   \n",
    "\n"
   ]
  },
  {
   "cell_type": "code",
   "execution_count": null,
   "id": "205e9f85",
   "metadata": {},
   "outputs": [],
   "source": [
    "## Base price = 10kr per apple\n",
    "price = 10\n",
    "# customer type\n",
    "S_P = input=(\"are u student or pensioner\")\n",
    "quantity = int(input(\"how many apples do u want to buy\")\n",
    "\n",
    "   #total price = quantity * 10\n",
    "if S_P = \"students\":\n",
    "  print \n",
    "      \n",
    "\n",
    "   \n",
    "               \n"
   ]
  },
  {
   "cell_type": "markdown",
   "id": "30ba63ca",
   "metadata": {},
   "source": [
    "### Input and outputs\n"
   ]
  },
  {
   "cell_type": "markdown",
   "id": "ca5edae0",
   "metadata": {},
   "source": []
  },
  {
   "cell_type": "code",
   "execution_count": 10,
   "id": "3bf15b88",
   "metadata": {},
   "outputs": [
    {
     "name": "stdout",
     "output_type": "stream",
     "text": [
      "Hello world\n",
      "My name is Afreen\n"
     ]
    }
   ],
   "source": [
    "print(\"Hello world\")\n",
    "\n",
    "print(\"My name is Afreen\")"
   ]
  },
  {
   "cell_type": "code",
   "execution_count": null,
   "id": "d0e244f2",
   "metadata": {},
   "outputs": [
    {
     "name": "stdout",
     "output_type": "stream",
     "text": [
      "Your name is Afreen\n"
     ]
    },
    {
     "name": "stdout",
     "output_type": "stream",
     "text": [
      "Your name is Afreen\n"
     ]
    }
   ],
   "source": [
    "name = \"Afreen\" \n",
    "print(f\"Your name is {name}\")"
   ]
  },
  {
   "cell_type": "code",
   "execution_count": 19,
   "id": "9ff02fe5",
   "metadata": {},
   "outputs": [
    {
     "name": "stdout",
     "output_type": "stream",
     "text": [
      "your age is 30\n"
     ]
    }
   ],
   "source": [
    "age = \"30\"\n",
    "print(f\"your age is {age}\")"
   ]
  },
  {
   "cell_type": "markdown",
   "id": "74c8ba00",
   "metadata": {},
   "source": [
    "## Inputs"
   ]
  },
  {
   "cell_type": "code",
   "execution_count": 21,
   "id": "9d5784a9",
   "metadata": {},
   "outputs": [
    {
     "name": "stdout",
     "output_type": "stream",
     "text": [
      "afreen is 30 years old\n"
     ]
    }
   ],
   "source": [
    "name = input(\"what is your  name\")\n",
    "age = input(\"what is your age\")\n",
    "\n",
    "print(f\"{name} is {age} years old\")\n"
   ]
  },
  {
   "cell_type": "markdown",
   "id": "be24c33e",
   "metadata": {},
   "source": [
    "## Type conversion"
   ]
  },
  {
   "cell_type": "code",
   "execution_count": 22,
   "id": "9e7613b1",
   "metadata": {},
   "outputs": [
    {
     "name": "stdout",
     "output_type": "stream",
     "text": [
      "force = 746.32N\n"
     ]
    }
   ],
   "source": [
    "gravity = 9.82\n",
    "mass = float(input(\"enter your weight in kg: \"))\n",
    "\n",
    "force = mass*gravity\n",
    "print(f\"{force = }N\")\n"
   ]
  }
 ],
 "metadata": {
  "kernelspec": {
   "display_name": "Python-Afreen-Tabassum-DE25",
   "language": "python",
   "name": "python3"
  },
  "language_info": {
   "codemirror_mode": {
    "name": "ipython",
    "version": 3
   },
   "file_extension": ".py",
   "mimetype": "text/x-python",
   "name": "python",
   "nbconvert_exporter": "python",
   "pygments_lexer": "ipython3",
   "version": "3.12.10"
  }
 },
 "nbformat": 4,
 "nbformat_minor": 5
}
