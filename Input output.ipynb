{
 "cells": [
  {
   "cell_type": "markdown",
   "id": "9bc696fb",
   "metadata": {},
   "source": [
    "### Decide discounts for a customer"
   ]
  },
  {
   "cell_type": "code",
   "execution_count": 7,
   "id": "911f58b6",
   "metadata": {},
   "outputs": [
    {
     "name": "stdout",
     "output_type": "stream",
     "text": [
      "50% off 50.0 kr\n"
     ]
    }
   ],
   "source": [
    "# base_price=10\n",
    "price = 10\n",
    "# Custome type \n",
    "S_P= input (\"Are u student or pensioner\")\n",
    "quantity = int(input(\"how many apples do u want to buy\"))\n",
    "\n",
    "# Calculate the total price\n",
    "total_price = quantity * 10\n",
    "students_price = total_price * 0.3\n",
    "pensioner_price = total_price * 0.5\n",
    "if S_P == \"students\":\n",
    "    print(f\"30% off {students_price} kr \")\n",
    "else:\n",
    "    print(f\"50% off {pensioner_price} kr\")\n",
    "   \n",
    "\n"
   ]
  },
  {
   "cell_type": "markdown",
   "id": "ca5edae0",
   "metadata": {},
   "source": []
  }
 ],
 "metadata": {
  "kernelspec": {
   "display_name": "Python-Afreen-Tabassum-DE25",
   "language": "python",
   "name": "python3"
  },
  "language_info": {
   "codemirror_mode": {
    "name": "ipython",
    "version": 3
   },
   "file_extension": ".py",
   "mimetype": "text/x-python",
   "name": "python",
   "nbconvert_exporter": "python",
   "pygments_lexer": "ipython3",
   "version": "3.12.10"
  }
 },
 "nbformat": 4,
 "nbformat_minor": 5
}
