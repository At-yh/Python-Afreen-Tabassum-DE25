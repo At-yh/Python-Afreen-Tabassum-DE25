{
 "cells": [
  {
   "cell_type": "markdown",
   "id": "5f9003f7",
   "metadata": {},
   "source": [
    "Lecture 7 - Strings\n",
    "- We have just created and printed out string type variable in lecture 4.\n",
    "- This lecture is more about strings."
   ]
  },
  {
   "cell_type": "markdown",
   "id": "7e805c70",
   "metadata": {},
   "source": [
    "Concatenate Strings\n"
   ]
  },
  {
   "cell_type": "code",
   "execution_count": 16,
   "id": "44d18ee2",
   "metadata": {},
   "outputs": [
    {
     "name": "stdout",
     "output_type": "stream",
     "text": [
      "afreentabassum\n"
     ]
    }
   ],
   "source": [
    "# concatenate multiple strings with + operator\n",
    "# remember + operator has another meaning when it comes to numeric variables\n",
    "\n",
    "firstname = \"afreen\"\n",
    "lastname = \"tabassum\"\n",
    "\n",
    "# concatenate without \" \"\n",
    "fullname = firstname + lastname\n",
    "print(fullname)"
   ]
  },
  {
   "cell_type": "code",
   "execution_count": 17,
   "id": "1a3f69b8",
   "metadata": {},
   "outputs": [
    {
     "name": "stdout",
     "output_type": "stream",
     "text": [
      "afreen tabassum\n"
     ]
    }
   ],
   "source": [
    "# concatenate also with \" \"\n",
    "space = \" \"\n",
    "fullname_with_space = firstname + space + lastname  # we can replace the space variable just with \" \"\n",
    "print(fullname_with_space)"
   ]
  },
  {
   "cell_type": "code",
   "execution_count": null,
   "id": "4992e308",
   "metadata": {},
   "outputs": [],
   "source": [
    "# multiline f string for cancatenating many strings\n",
    "work = \"AIgineer AB\"\n",
    "adress = \"Supah cool streeeeeeeeto\"\n",
    "\n",
    "# f-string with one line\n",
    "print(f\"{fullname_with_space} is workinging in a company called {work}. And his adress is {adress}.\"\n",
    "\n",
    "# f-string multiline\n",
    "print(f\"\"\")\n"
   ]
  },
  {
   "cell_type": "code",
   "execution_count": 6,
   "id": "27b337c8",
   "metadata": {},
   "outputs": [
    {
     "name": "stdout",
     "output_type": "stream",
     "text": [
      "Today's fruits: apple, orrange, strawberry\n",
      "apple\n",
      "orrange\n",
      "strawberry\n"
     ]
    }
   ],
   "source": [
    "# Concatenate with loop\n",
    "\n",
    "fruits_today = \"apple, \" + \"orrange, \" + \"strawberry\"\n",
    "\n",
    "print(f\"Today's fruits: {fruits_today}\")\n",
    "\n",
    "fruits_today_list = [\"apple\", \"orrange\", \"strawberry\" ]\n",
    "for fruit in fruits_today_list:\n",
    "    print(fruit)\n"
   ]
  },
  {
   "cell_type": "markdown",
   "id": "c2a331b8",
   "metadata": {},
   "source": [
    "## Indexing\n",
    "- An operation to access \"an item\"\n",
    "- what is an item in the context of strings? it is one of the character inside the string\n",
    "- We can use [] operator\n",
    "- Slicing is also possible if we want to access multiple characters\n"
   ]
  },
  {
   "cell_type": "code",
   "execution_count": 24,
   "id": "3b3ca4ea",
   "metadata": {},
   "outputs": [
    {
     "name": "stdout",
     "output_type": "stream",
     "text": [
      "afreen tabassum\n",
      "The first letter of the string is: a\n",
      "The last letter is : m\n",
      "The last letter of the string is: m\n"
     ]
    }
   ],
   "source": [
    "# Index\n",
    "print(fullname_with_space)\n",
    "print(f\"The first letter of the string is: {fullname_with_space[0]}\")\n",
    "print(f\"The last letter is : {fullname_with_space[14]}\")\n",
    "print(f\"The last letter of the string is: {fullname_with_space[-1]}\")\n",
    "\n"
   ]
  },
  {
   "cell_type": "code",
   "execution_count": 28,
   "id": "c84ee88b",
   "metadata": {},
   "outputs": [
    {
     "name": "stdout",
     "output_type": "stream",
     "text": [
      "The first three letters: afree\n",
      "The last five letters: assum\n",
      "The last three letters: mussa\n"
     ]
    }
   ],
   "source": [
    "# Slicing (from the left)\n",
    "print(f\"The first three letters: {fullname_with_space[0:5]}\")   # stopping before 5th letter\n",
    "print(f\"The last five letters: {fullname_with_space[-5:]}\")\n",
    "\n",
    "# Slicing reversely\n",
    "print(f\"The last three letters: {fullname_with_space[-1:-6:-1]}\")\n"
   ]
  },
  {
   "cell_type": "markdown",
   "id": "5e2758cf",
   "metadata": {},
   "source": [
    "# Some common examples to clean strings\n",
    "- Make use of string methods\n",
    "- A good introduction of many common string methods here: link\n",
    "- Syntax of using function on string variable.\n",
    "    -'len(string variable)'\n",
    "\n",
    "- Syntax of usig method on string variable.\n",
    "    - 'string_variable.upper()'"
   ]
  },
  {
   "cell_type": "code",
   "execution_count": null,
   "id": "a372174d",
   "metadata": {},
   "outputs": [],
   "source": [
    "# Use len() function to check the legnth of string\n",
    "len(fullname_with_space)"
   ]
  },
  {
   "cell_type": "code",
   "execution_count": 3,
   "id": "dbb6c91d",
   "metadata": {},
   "outputs": [
    {
     "data": {
      "text/plain": [
       "['Maths', ' biology', ' chemistry', ' Programming   ']"
      ]
     },
     "execution_count": 3,
     "metadata": {},
     "output_type": "execute_result"
    }
   ],
   "source": [
    "# Splitting a string\n",
    "\n",
    "subjects = \"Maths, biology, chemistry, Programming   \"\n",
    "\n",
    "subjects = subjects.split(\",\")\n",
    "\n",
    "subjects"
   ]
  },
  {
   "cell_type": "code",
   "execution_count": null,
   "id": "2a7953f1",
   "metadata": {},
   "outputs": [
    {
     "name": "stdout",
     "output_type": "stream",
     "text": [
      "Maths\n",
      "biology\n",
      "chemistry\n",
      "Programming\n"
     ]
    }
   ],
   "source": [
    "# Strip off leading and trailing space\n",
    "# check out also rstrip and lstrip()\n",
    "for subject in subjects:\n",
    "    print(subject.strip())"
   ]
  },
  {
   "cell_type": "code",
   "execution_count": 33,
   "id": "b3a984c9",
   "metadata": {},
   "outputs": [
    {
     "name": "stdout",
     "output_type": "stream",
     "text": [
      "MATHS\n",
      "BIOLOGY\n",
      "CHEMISTRY\n",
      "PROGRAMMING\n"
     ]
    }
   ],
   "source": [
    "# Making upper case letter\n",
    "# Checkout lower()\n",
    "\n",
    "for subject in subjects:\n",
    "    print(subject.strip().upper())"
   ]
  },
  {
   "cell_type": "markdown",
   "id": "754dd255",
   "metadata": {},
   "source": [
    "# Regular expression\n",
    "- look for a pattern\n",
    "- Make use of different functions 're' package\n",
    "- Syntax of using functions from an imported package\n",
    "    - 're'.'findall()'\n",
    "    - imported_package.function \n",
    "- checkout the w3schools re tutorial to learn more symbols to form patterns"
   ]
  },
  {
   "cell_type": "code",
   "execution_count": null,
   "id": "bbb36f4d",
   "metadata": {},
   "outputs": [],
   "source": [
    "import re\n",
    "\n"
   ]
  },
  {
   "cell_type": "code",
   "execution_count": 38,
   "id": "8abc7432",
   "metadata": {},
   "outputs": [
    {
     "data": {
      "text/plain": [
       "['att', 'att']"
      ]
     },
     "execution_count": 38,
     "metadata": {},
     "output_type": "execute_result"
    }
   ],
   "source": [
    "text = \"Det var en gång en katt som tog på sign en hatt.\"\n",
    "list_letter_att = re.findall(\"att\", text) # The first argument is the pattern, The second part is where I to find the pattern\n",
    "\n",
    "list_letter_att"
   ]
  },
  {
   "cell_type": "code",
   "execution_count": 2,
   "id": "3615c869",
   "metadata": {},
   "outputs": [
    {
     "ename": "NameError",
     "evalue": "name 're' is not defined",
     "output_type": "error",
     "traceback": [
      "\u001b[31m---------------------------------------------------------------------------\u001b[39m",
      "\u001b[31mNameError\u001b[39m                                 Traceback (most recent call last)",
      "\u001b[36mCell\u001b[39m\u001b[36m \u001b[39m\u001b[32mIn[2]\u001b[39m\u001b[32m, line 1\u001b[39m\n\u001b[32m----> \u001b[39m\u001b[32m1\u001b[39m list_word_att = \u001b[43mre\u001b[49m.findall(\u001b[33m\"\u001b[39m\u001b[33m.att\u001b[39m\u001b[33m\"\u001b[39m, text)\n\u001b[32m      2\u001b[39m list_word_att\n",
      "\u001b[31mNameError\u001b[39m: name 're' is not defined"
     ]
    }
   ],
   "source": [
    "list_word_att = re.findall(\".att\", text)\n",
    "list_word_att"
   ]
  },
  {
   "cell_type": "code",
   "execution_count": 1,
   "id": "13d56e93",
   "metadata": {},
   "outputs": [
    {
     "ename": "NameError",
     "evalue": "name 're' is not defined",
     "output_type": "error",
     "traceback": [
      "\u001b[31m---------------------------------------------------------------------------\u001b[39m",
      "\u001b[31mNameError\u001b[39m                                 Traceback (most recent call last)",
      "\u001b[36mCell\u001b[39m\u001b[36m \u001b[39m\u001b[32mIn[1]\u001b[39m\u001b[32m, line 3\u001b[39m\n\u001b[32m      1\u001b[39m personal_number = \u001b[33m\"\u001b[39m\u001b[33mIda: 19950516-2235, Berit: 890806-3212\u001b[39m\u001b[33m\"\u001b[39m\n\u001b[32m----> \u001b[39m\u001b[32m3\u001b[39m personal_number_eight = \u001b[43mre\u001b[49m.findall(\u001b[33mr\u001b[39m\u001b[33m\"\u001b[39m\u001b[33m\\\u001b[39m\u001b[33md\u001b[39m\u001b[38;5;132;01m{8}\u001b[39;00m\u001b[33m-\u001b[39m\u001b[33m\\\u001b[39m\u001b[33md\u001b[39m\u001b[38;5;132;01m{4}\u001b[39;00m\u001b[33m\"\u001b[39m, personal_number)  \u001b[38;5;66;03m# r for raw string\u001b[39;00m\n\u001b[32m      5\u001b[39m personal_number_eight\n",
      "\u001b[31mNameError\u001b[39m: name 're' is not defined"
     ]
    }
   ],
   "source": [
    "personal_number = \"Ida: 19950516-2235, Berit: 890806-3212\"\n",
    "\n",
    "personal_number_eight = re.findall(r\"\\d{8}-\\d{4}\", personal_number)  # r for raw string\n",
    "\n",
    "personal_number_eight"
   ]
  },
  {
   "cell_type": "code",
   "execution_count": 50,
   "id": "32c108ed",
   "metadata": {},
   "outputs": [
    {
     "data": {
      "text/plain": [
       "['950516-2235', '890806-3212']"
      ]
     },
     "execution_count": 50,
     "metadata": {},
     "output_type": "execute_result"
    }
   ],
   "source": [
    "\n",
    "personal_number_six = re.findall(r\"\\d{6}-\\d{4}\", personal_number)  # r for raw string\n",
    "\n",
    "personal_number_six "
   ]
  }
 ],
 "metadata": {
  "kernelspec": {
   "display_name": "Python-Afreen-Tabassum-DE25",
   "language": "python",
   "name": "python3"
  },
  "language_info": {
   "codemirror_mode": {
    "name": "ipython",
    "version": 3
   },
   "file_extension": ".py",
   "mimetype": "text/x-python",
   "name": "python",
   "nbconvert_exporter": "python",
   "pygments_lexer": "ipython3",
   "version": "3.12.10"
  }
 },
 "nbformat": 4,
 "nbformat_minor": 5
}
