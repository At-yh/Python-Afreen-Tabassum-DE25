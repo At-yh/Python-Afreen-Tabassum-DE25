{
 "cells": [
  {
   "cell_type": "markdown",
   "id": "2244f7a4",
   "metadata": {},
   "source": [
    "if-statements"
   ]
  },
  {
   "cell_type": "code",
   "execution_count": 31,
   "id": "304014ea",
   "metadata": {},
   "outputs": [
    {
     "name": "stdout",
     "output_type": "stream",
     "text": [
      "Enjoy this scary movie\n"
     ]
    }
   ],
   "source": [
    "age = int(input(\"Enter your age :\"))\n",
    "age_limit = 15\n",
    "\n",
    "if age < age_limit:\n",
    "    print(\"Sorry, your too young to attend this scary movie\")\n",
    "    print(\"Watch cartoons instead\")\n",
    "else:\n",
    "    print(\"Enjoy this scary movie\")\n",
    "    "
   ]
  },
  {
   "cell_type": "code",
   "execution_count": 33,
   "id": "7f104fa9",
   "metadata": {},
   "outputs": [
    {
     "name": "stdout",
     "output_type": "stream",
     "text": [
      "Welcome to roller coaster\n"
     ]
    }
   ],
   "source": [
    "age = 18\n",
    "height = 150\n",
    "\n",
    "\n",
    "if age > 11 and 130 < height < 210:\n",
    "    print(\"Welcome to roller coaster\")\n",
    "else:\n",
    "    print(\"comeback when you fullfill requirements\"),\n"
   ]
  },
  {
   "cell_type": "code",
   "execution_count": 35,
   "id": "5f24e6f8",
   "metadata": {},
   "outputs": [
    {
     "name": "stdout",
     "output_type": "stream",
     "text": [
      "Welcome to roller coaster\n"
     ]
    }
   ],
   "source": [
    "age = 15;\n",
    "height = 130;\n",
    "\n",
    "\n",
    "if age > 11 and 130 <=height < 210:\n",
    "    print(\"Welcome to roller coaster\")\n",
    "else:\n",
    "    print(\"comeback when you fullfill requirements\"),\n",
    "\n"
   ]
  }
 ],
 "metadata": {
  "kernelspec": {
   "display_name": "Python-Afreen-Tabassum-DE25",
   "language": "python",
   "name": "python3"
  },
  "language_info": {
   "codemirror_mode": {
    "name": "ipython",
    "version": 3
   },
   "file_extension": ".py",
   "mimetype": "text/x-python",
   "name": "python",
   "nbconvert_exporter": "python",
   "pygments_lexer": "ipython3",
   "version": "3.12.10"
  }
 },
 "nbformat": 4,
 "nbformat_minor": 5
}
