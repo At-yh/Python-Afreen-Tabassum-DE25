{
 "cells": [
  {
   "cell_type": "code",
   "execution_count": null,
   "id": "9a109120",
   "metadata": {
    "vscode": {
     "languageId": "plaintext"
    }
   },
   "outputs": [],
   "source": []
  },
  {
   "cell_type": "markdown",
   "id": "8ec2a651",
   "metadata": {},
   "source": [
    "###Example of oil leakage\n",
    "\n",
    "- in year 0, for beginning we have 80000 birds\n",
    "- due to oil leakage, 50% of birds will die every year (note that the nr of dead birds is not an absolute number)\n",
    "- when will the number of birds become 80000"
   ]
  }
 ],
 "metadata": {
  "language_info": {
   "name": "python"
  }
 },
 "nbformat": 4,
 "nbformat_minor": 5
}
