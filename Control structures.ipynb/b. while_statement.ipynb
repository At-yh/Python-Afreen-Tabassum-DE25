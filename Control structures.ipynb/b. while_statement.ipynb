{
 "cells": [
  {
   "cell_type": "code",
   "execution_count": null,
   "id": "a7b27a98",
   "metadata": {},
   "outputs": [],
   "source": [
    "wile birds < 8000: # provide a condition, not the number of looping times with the while statement\n",
    "print ("
   ]
  },
  {
   "cell_type": "markdown",
   "id": "8ec2a651",
   "metadata": {},
   "source": [
    "### Eample of oil leakage\n",
    "\n",
    "- in year 0, for beginning we have 80000 birds\n",
    "- due to oil leakage, 50% of birds will die every year (note that the nr of dead birds is not an absolute number)\n",
    "- when will the number of birds become 8000?\n",
    "- in this example, we dont know about "
   ]
  },
  {
   "cell_type": "code",
   "execution_count": null,
   "id": "a61f9048",
   "metadata": {},
   "outputs": [],
   "source": [
    "# initial values for the year and birds variables\n",
    "year = 0\n",
    "birds = 80000"
   ]
  },
  {
   "cell_type": "code",
   "execution_count": null,
   "id": "09aa6258",
   "metadata": {},
   "outputs": [],
   "source": [
    "while birds> 8000 ovide a condition, not the number of looping times with the while statement \n",
    "print "
   ]
  }
 ],
 "metadata": {
  "language_info": {
   "name": "python"
  }
 },
 "nbformat": 4,
 "nbformat_minor": 5
}
