{
 "cells": [
  {
   "cell_type": "markdown",
   "id": "f72c1d23",
   "metadata": {},
   "source": [
    "## OOP fundamentals\n",
    "- Object oriented programming (OOP)"
   ]
  },
  {
   "cell_type": "code",
   "execution_count": 3,
   "id": "73d38c8e",
   "metadata": {},
   "outputs": [
    {
     "data": {
      "text/plain": [
       "'STI'"
      ]
     },
     "execution_count": 3,
     "metadata": {},
     "output_type": "execute_result"
    }
   ],
   "source": [
    "class Admission:\n",
    "    def __init__(self, school, nmae):\n",
    "        self.school = school\n",
    "        self.name = nmae\n",
    "\n",
    "person1 = Admission(\"STI\", \"Ceda\")\n",
    "\n",
    "person1.school\n"
   ]
  }
 ],
 "metadata": {
  "kernelspec": {
   "display_name": "Python-Afreen-Tabassum-DE25",
   "language": "python",
   "name": "python3"
  },
  "language_info": {
   "codemirror_mode": {
    "name": "ipython",
    "version": 3
   },
   "file_extension": ".py",
   "mimetype": "text/x-python",
   "name": "python",
   "nbconvert_exporter": "python",
   "pygments_lexer": "ipython3",
   "version": "3.12.10"
  }
 },
 "nbformat": 4,
 "nbformat_minor": 5
}
