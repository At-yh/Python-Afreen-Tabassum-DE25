{
 "cells": [
  {
   "cell_type": "markdown",
   "id": "6f53bf6d",
   "metadata": {},
   "source": [
    "Error handling\n",
    "- Add error handling for blocks of codes that can encounter errors.\n",
    "- Because we dont want to clash the program\n",
    "- Make use of try excent block"
   ]
  },
  {
   "cell_type": "code",
   "execution_count": null,
   "id": "c0534602",
   "metadata": {},
   "outputs": [],
   "source": [
    "# without error handling, the code below \n",
    " print(x)"
   ]
  },
  {
   "cell_type": "code",
   "execution_count": null,
   "id": "24f9c9ef",
   "metadata": {},
   "outputs": [],
   "source": [
    "# Add try except to the code above\n",
    "try:\n",
    "    # under the try block, put the potentially problematic block of codes\n",
    "    print(x)\n",
    "except:\n",
    "    # when the try block encounter errors, run the except block instead of crashing \n",
    "    print(\"There is an error in the try block\")"
   ]
  },
  {
   "cell_type": "code",
   "execution_count": null,
   "id": "ca39685a",
   "metadata": {},
   "outputs": [],
   "source": [
    "# Make use of multiple except blocks\n",
    "try:\n",
    "    print(x)\n",
    "except NameError:\n",
    "    print(\"Variable x is not defined yet.\")\n",
    "except:\n",
    "    print(\"Some other error happen.\")\n"
   ]
  },
  {
   "cell_type": "code",
   "execution_count": null,
   "id": "4531309c",
   "metadata": {},
   "outputs": [],
   "source": [
    "# An example that is not NameError\n",
    "print(8/2)"
   ]
  },
  {
   "cell_type": "code",
   "execution_count": null,
   "id": "4c3c6428",
   "metadata": {},
   "outputs": [],
   "source": [
    "try:\n",
    "    print(8/0)\n",
    "except NameError:\n",
    "    print(\"There is a NameError.\")\n",
    "except:\n",
    "    print(\"There is an error that is not NameError\")"
   ]
  },
  {
   "cell_type": "code",
   "execution_count": null,
   "id": "10448da3",
   "metadata": {},
   "outputs": [],
   "source": [
    "# Make use of error message\n",
    "try:\n",
    "    print(x)\n",
    "except NameError as err:\n",
    "    print(err)\n",
    "except:\n",
    "    print(\"Something else\")"
   ]
  }
 ],
 "metadata": {
  "kernelspec": {
   "display_name": "Python 3",
   "language": "python",
   "name": "python3"
  },
  "language_info": {
   "name": "python",
   "version": "3.12.10"
  }
 },
 "nbformat": 4,
 "nbformat_minor": 5
}
